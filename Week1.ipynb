{
  "nbformat": 4,
  "nbformat_minor": 0,
  "metadata": {
    "colab": {
      "provenance": [],
      "authorship_tag": "ABX9TyNrfZ6ScQTCof94AE/24ykm",
      "include_colab_link": true
    },
    "kernelspec": {
      "name": "python3",
      "display_name": "Python 3"
    },
    "language_info": {
      "name": "python"
    }
  },
  "cells": [
    {
      "cell_type": "markdown",
      "metadata": {
        "id": "view-in-github",
        "colab_type": "text"
      },
      "source": [
        "<a href=\"https://colab.research.google.com/github/SeanMin00/DS_Bootcamp_NYU/blob/main/Week1.ipynb\" target=\"_parent\"><img src=\"https://colab.research.google.com/assets/colab-badge.svg\" alt=\"Open In Colab\"/></a>"
      ]
    },
    {
      "cell_type": "markdown",
      "source": [
        "1. Write a function  *count_vowels(word)* that takes a word as an argument and returns the number of vowels in the word\n",
        "\n",
        "2. Iterate through the following list of animals and print each one in all caps.\n",
        "\n",
        "- animals=['tiger', 'elephant', 'monkey', 'zebra', 'panther']\n",
        "\n",
        "3. Write a program that iterates from 1 to 20, printing each number and whether it's odd or even.\n",
        "\n",
        "4. Write a function *sum_of_integers(a, b)* that takes two integers as input from the user and returns their sum."
      ],
      "metadata": {
        "id": "RWnZ0jCK9vBl"
      }
    },
    {
      "cell_type": "code",
      "execution_count": null,
      "metadata": {
        "id": "z573R0_58-xE"
      },
      "outputs": [],
      "source": [
        "# 1. Function to count vowels in a word\n",
        "def count_vowels(word):\n",
        "    vowels = 'aeiouAEIOU'\n",
        "    return sum(1 for char in word if char in vowels)\n"
      ]
    },
    {
      "cell_type": "code",
      "source": [
        "# 2. Iterate through the list of animals and print each one in all caps\n",
        "animals = ['tiger', 'elephant', 'monkey', 'zebra', 'panther']\n",
        "for animal in animals:\n",
        "    print(animal.upper())"
      ],
      "metadata": {
        "id": "HQv8Z4y9_ER7",
        "outputId": "1590a44d-62e1-425b-8229-83fa20045326",
        "colab": {
          "base_uri": "https://localhost:8080/"
        }
      },
      "execution_count": 2,
      "outputs": [
        {
          "output_type": "stream",
          "name": "stdout",
          "text": [
            "TIGER\n",
            "ELEPHANT\n",
            "MONKEY\n",
            "ZEBRA\n",
            "PANTHER\n"
          ]
        }
      ]
    },
    {
      "cell_type": "code",
      "source": [
        "# 3. Program that iterates from 1 to 20, printing each number and whether it's odd or even\n",
        "for num in range(1, 21):\n",
        "    if num % 2 == 0:\n",
        "        print(f\"{num} is even\")\n",
        "    else:\n",
        "        print(f\"{num} is odd\")"
      ],
      "metadata": {
        "id": "VPOu3sZK_EqR",
        "outputId": "107721b2-f34e-43a5-e1cd-ac1c141b1019",
        "colab": {
          "base_uri": "https://localhost:8080/"
        }
      },
      "execution_count": 3,
      "outputs": [
        {
          "output_type": "stream",
          "name": "stdout",
          "text": [
            "1 is odd\n",
            "2 is even\n",
            "3 is odd\n",
            "4 is even\n",
            "5 is odd\n",
            "6 is even\n",
            "7 is odd\n",
            "8 is even\n",
            "9 is odd\n",
            "10 is even\n",
            "11 is odd\n",
            "12 is even\n",
            "13 is odd\n",
            "14 is even\n",
            "15 is odd\n",
            "16 is even\n",
            "17 is odd\n",
            "18 is even\n",
            "19 is odd\n",
            "20 is even\n"
          ]
        }
      ]
    },
    {
      "cell_type": "code",
      "source": [
        "# 4. Function to sum two integers\n",
        "def sum_of_integers(a, b):\n",
        "    return a + b\n",
        "\n",
        "# Example usage\n",
        "a = int(input(\"Enter the first integer: \"))\n",
        "b = int(input(\"Enter the second integer: \"))\n",
        "print(f\"The sum of {a} and {b} is: {sum_of_integers(a, b)}\")\n"
      ],
      "metadata": {
        "id": "mMD3m750_I9a"
      },
      "execution_count": null,
      "outputs": []
    }
  ]
}