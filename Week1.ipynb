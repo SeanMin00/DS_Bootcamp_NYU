{
  "nbformat": 4,
  "nbformat_minor": 0,
  "metadata": {
    "colab": {
      "provenance": [],
      "authorship_tag": "ABX9TyN8DZvsUuoAoKBIwBZ/ntA+",
      "include_colab_link": true
    },
    "kernelspec": {
      "name": "python3",
      "display_name": "Python 3"
    },
    "language_info": {
      "name": "python"
    }
  },
  "cells": [
    {
      "cell_type": "markdown",
      "metadata": {
        "id": "view-in-github",
        "colab_type": "text"
      },
      "source": [
        "<a href=\"https://colab.research.google.com/github/SeanMin00/DS_Bootcamp_NYU/blob/main/Week1.ipynb\" target=\"_parent\"><img src=\"https://colab.research.google.com/assets/colab-badge.svg\" alt=\"Open In Colab\"/></a>"
      ]
    },
    {
      "cell_type": "markdown",
      "source": [
        "1. Write a function  *count_vowels(word)* that takes a word as an argument and returns the number of vowels in the word\n",
        "\n",
        "2. Iterate through the following list of animals and print each one in all caps.\n",
        "\n",
        "- animals=['tiger', 'elephant', 'monkey', 'zebra', 'panther']\n",
        "\n",
        "3. Write a program that iterates from 1 to 20, printing each number and whether it's odd or even.\n",
        "\n",
        "4. Write a function *sum_of_integers(a, b)* that takes two integers as input from the user and returns their sum."
      ],
      "metadata": {
        "id": "RWnZ0jCK9vBl"
      }
    },
    {
      "cell_type": "code",
      "execution_count": null,
      "metadata": {
        "id": "z573R0_58-xE",
        "colab": {
          "base_uri": "https://localhost:8080/"
        },
        "outputId": "c4dd1d39-2b6f-4bbd-c5ac-e7982e2ab68d"
      },
      "outputs": [
        {
          "output_type": "stream",
          "name": "stdout",
          "text": [
            "Enter the animal's name: elephant\n",
            "3\n"
          ]
        }
      ],
      "source": [
        "# 1. Function to count vowels in a word\n",
        "def count_vowels(word):\n",
        "    vowels = 'aeiouAEIOU'\n",
        "    count = 0\n",
        "    for char in word:\n",
        "        if char in vowels:\n",
        "            count += 1\n",
        "    return count\n",
        "\n",
        "\n",
        "\n",
        "word = input(\"Enter the animal's name: \")\n",
        "print(count_vowels(word))\n"
      ]
    },
    {
      "cell_type": "code",
      "source": [
        "# 2. Iterate through the list of animals and print each one in all caps\n",
        "animals = ['tiger', 'elephant', 'monkey', 'zebra', 'panther']\n",
        "for animal in animals:\n",
        "    print(animal.upper())"
      ],
      "metadata": {
        "colab": {
          "base_uri": "https://localhost:8080/"
        },
        "id": "HQv8Z4y9_ER7",
        "outputId": "a1977bd9-ee36-4af7-d88d-eefe15355970"
      },
      "execution_count": null,
      "outputs": [
        {
          "output_type": "stream",
          "name": "stdout",
          "text": [
            "TIGER\n",
            "ELEPHANT\n",
            "MONKEY\n",
            "ZEBRA\n",
            "PANTHER\n"
          ]
        }
      ]
    },
    {
      "cell_type": "code",
      "source": [
        "# 3. Program that iterates from 1 to 20, printing each number and whether it's odd or even\n",
        "for num in range(1, 21):\n",
        "    if num % 2 == 0:\n",
        "        print(f\"{num} is even\")\n",
        "    else:\n",
        "        print(f\"{num} is odd\")"
      ],
      "metadata": {
        "colab": {
          "base_uri": "https://localhost:8080/"
        },
        "id": "VPOu3sZK_EqR",
        "outputId": "2c44ed86-9966-4003-ae34-3593bbf84734"
      },
      "execution_count": null,
      "outputs": [
        {
          "output_type": "stream",
          "name": "stdout",
          "text": [
            "1 is odd\n",
            "2 is even\n",
            "3 is odd\n",
            "4 is even\n",
            "5 is odd\n",
            "6 is even\n",
            "7 is odd\n",
            "8 is even\n",
            "9 is odd\n",
            "10 is even\n",
            "11 is odd\n",
            "12 is even\n",
            "13 is odd\n",
            "14 is even\n",
            "15 is odd\n",
            "16 is even\n",
            "17 is odd\n",
            "18 is even\n",
            "19 is odd\n",
            "20 is even\n"
          ]
        }
      ]
    },
    {
      "cell_type": "code",
      "source": [
        "# 4. Function to sum two integers\n",
        "def sum_of_integers(a, b):\n",
        "    return a + b\n",
        "\n",
        "a = int(input(\"Enter the first integer: \"))\n",
        "b = int(input(\"Enter the second integer: \"))\n",
        "print(f\"The sum of {a} and {b} is: {sum_of_integers(a, b)}\")\n"
      ],
      "metadata": {
        "colab": {
          "base_uri": "https://localhost:8080/"
        },
        "id": "mMD3m750_I9a",
        "outputId": "a8eed35f-f28c-46b6-b207-b55451f12715"
      },
      "execution_count": null,
      "outputs": [
        {
          "output_type": "stream",
          "name": "stdout",
          "text": [
            "Enter the first integer: 10\n",
            "Enter the second integer: 11\n",
            "The sum of 10 and 11 is: 21\n"
          ]
        }
      ]
    }
  ]
}