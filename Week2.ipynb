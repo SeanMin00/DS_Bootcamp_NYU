{
  "nbformat": 4,
  "nbformat_minor": 0,
  "metadata": {
    "colab": {
      "provenance": [],
      "authorship_tag": "ABX9TyNMsKjf9NHSFGliJEMfdgwo",
      "include_colab_link": true
    },
    "kernelspec": {
      "name": "python3",
      "display_name": "Python 3"
    },
    "language_info": {
      "name": "python"
    }
  },
  "cells": [
    {
      "cell_type": "markdown",
      "metadata": {
        "id": "view-in-github",
        "colab_type": "text"
      },
      "source": [
        "<a href=\"https://colab.research.google.com/github/SeanMin00/DS_Bootcamp_NYU/blob/main/Week2.ipynb\" target=\"_parent\"><img src=\"https://colab.research.google.com/assets/colab-badge.svg\" alt=\"Open In Colab\"/></a>"
      ]
    },
    {
      "cell_type": "markdown",
      "source": [
        "Numpy Questions\n",
        "\n",
        "1. Define two custom numpy arrays, say A and B. Generate two new numpyarrays by stacking A and B vertically and horizontally.\n",
        "\n",
        "2. Find common elements between A and B. [Hint : Intersection of two sets]\n",
        "\n",
        "3. Extract all numbers from A which are within a specific range. egbetween 5 and 10. [Hint: np.where() might be useful or boolean masks]\n",
        "\n",
        "4. Filter the rows of iris_2d that has petallength (3rd column) > 1.5 and sepallength (1st column) < 5.0\n",
        "url = 'https://archive.ics.uci.edu/ml/machine-learning-databases/iris/iris.data'iris_2d = np.genfromtxt(url, delimiter=',', dtype='float', usecols=[0,1,2,3])\n",
        "\n",
        "Pandas Questions\n",
        "\n",
        "5. From df filter the 'Manufacturer', 'Model' and 'Type' for every20th row starting from 1st (row 0).```df = pd.read_csv('https://raw.githubusercontent.com/selva86/datasets/master/Cars93_miss.csv')```\n",
        "\n",
        "6. Replace missing values in Min.Price and Max.Price columns withtheir respective mean.```df = pd.read_csv('https://raw.githubusercontent.com/selva86/datasets/master/Cars93_miss.csv')```\n",
        "\n",
        "7. How to get the rows of a dataframe with row sum > 100?```\n",
        "\n",
        "df = pd.DataFrame(np.random.randint(10, 40, 60).reshape(-1, 4))"
      ],
      "metadata": {
        "id": "U-Yovr37DCrt"
      }
    },
    {
      "cell_type": "code",
      "source": [
        "import numpy as np\n",
        "import pandas as pd"
      ],
      "metadata": {
        "id": "vv19EMy7DJce"
      },
      "execution_count": null,
      "outputs": []
    },
    {
      "cell_type": "code",
      "source": [
        "# 1. Define two custom numpy arrays, say A and B. Generate two new numpyarrays by stacking A and B vertically and horizontally.\n",
        "A = np.array([1, 2, 3, 4, 5, 6])\n",
        "B = np.array([4, 5, 6, 7, 8, 9])\n",
        "\n",
        "Array1 = np.vstack((A, B))\n",
        "print(Array1)\n",
        "Array2 = np.hstack((A, B))\n",
        "print(Array2)"
      ],
      "metadata": {
        "colab": {
          "base_uri": "https://localhost:8080/"
        },
        "id": "Bptlecofhjrm",
        "outputId": "781e4c64-7b6e-4443-d506-3a2eaf45fcce"
      },
      "execution_count": null,
      "outputs": [
        {
          "output_type": "stream",
          "name": "stdout",
          "text": [
            "[[1 2 3 4 5 6]\n",
            " [4 5 6 7 8 9]]\n",
            "[1 2 3 4 5 6 4 5 6 7 8 9]\n"
          ]
        }
      ]
    },
    {
      "cell_type": "code",
      "source": [
        "# 2. Find common elements between A and B. [Hint : Intersection of two sets]\n",
        "common_elements = np.intersect1d(A, B)\n",
        "print(common_elements)\n"
      ],
      "metadata": {
        "colab": {
          "base_uri": "https://localhost:8080/"
        },
        "id": "FSxGnat3inGx",
        "outputId": "3726412e-523a-4a54-b0e8-913441605ef8"
      },
      "execution_count": null,
      "outputs": [
        {
          "output_type": "stream",
          "name": "stdout",
          "text": [
            "[4 5 6]\n"
          ]
        }
      ]
    },
    {
      "cell_type": "code",
      "source": [
        "# 3. Extract all numbers from A which are within a specific range. eg- between 5 and 10.\n",
        "# [Hint: np.where() might be useful or boolean masks]\n",
        "specific_range = np.where((A >= 5) & (A <= 10))\n",
        "print(specific_range)"
      ],
      "metadata": {
        "colab": {
          "base_uri": "https://localhost:8080/"
        },
        "id": "q1ywfL7rlCVj",
        "outputId": "34cfe749-8b74-49d9-9031-785dada92777"
      },
      "execution_count": null,
      "outputs": [
        {
          "output_type": "stream",
          "name": "stdout",
          "text": [
            "(array([4, 5]),)\n"
          ]
        }
      ]
    },
    {
      "cell_type": "code",
      "source": [
        "#4 Filter the rows of iris_2d that has petallength (3rd column) > 1.5 and sepallength (1st column) < 5.0\n",
        "url = 'https://archive.ics.uci.edu/ml/machine-learning-databases/iris/iris.data'\n",
        "iris_2d = np.genfromtxt(url, delimiter=',', dtype='float', usecols=[0,1,2,3])\n",
        "\n",
        "filtered_rows = iris_2d[(iris_2d[:, 2] > 1.5) & (iris_2d[:, 0] < 5.0)]\n",
        "print(filtered_rows)"
      ],
      "metadata": {
        "colab": {
          "base_uri": "https://localhost:8080/"
        },
        "id": "taOiPHJ8lgRF",
        "outputId": "36b87446-c681-41b6-adc4-4c316625c8c6"
      },
      "execution_count": null,
      "outputs": [
        {
          "output_type": "stream",
          "name": "stdout",
          "text": [
            "[[4.8 3.4 1.6 0.2]\n",
            " [4.8 3.4 1.9 0.2]\n",
            " [4.7 3.2 1.6 0.2]\n",
            " [4.8 3.1 1.6 0.2]\n",
            " [4.9 2.4 3.3 1. ]\n",
            " [4.9 2.5 4.5 1.7]]\n"
          ]
        }
      ]
    },
    {
      "cell_type": "code",
      "source": [
        "#5 From df filter the 'Manufacturer', 'Model' and 'Type' for every20th row starting from 1st (row 0).\n",
        "df = pd.read_csv('https://raw.githubusercontent.com/selva86/datasets/master/Cars93_miss.csv')\n",
        "\n",
        "selected_columns = df[['Manufacturer', 'Model', 'Type']].head(20)\n",
        "print(selected_columns)"
      ],
      "metadata": {
        "colab": {
          "base_uri": "https://localhost:8080/"
        },
        "id": "3AFL32pboNCI",
        "outputId": "7b6642d0-1760-423e-c6fa-315385ad379b"
      },
      "execution_count": null,
      "outputs": [
        {
          "output_type": "stream",
          "name": "stdout",
          "text": [
            "   Manufacturer       Model     Type\n",
            "0         Acura     Integra    Small\n",
            "1           NaN      Legend  Midsize\n",
            "2          Audi          90  Compact\n",
            "3          Audi         100  Midsize\n",
            "4           BMW        535i  Midsize\n",
            "5         Buick     Century  Midsize\n",
            "6         Buick     LeSabre    Large\n",
            "7         Buick  Roadmaster    Large\n",
            "8         Buick     Riviera  Midsize\n",
            "9      Cadillac     DeVille    Large\n",
            "10     Cadillac     Seville  Midsize\n",
            "11    Chevrolet    Cavalier  Compact\n",
            "12    Chevrolet     Corsica  Compact\n",
            "13    Chevrolet      Camaro   Sporty\n",
            "14    Chevrolet      Lumina  Midsize\n",
            "15    Chevrolet  Lumina_APV      Van\n",
            "16    Chevrolet       Astro      Van\n",
            "17    Chevrolet     Caprice    Large\n",
            "18    Chevrolet    Corvette   Sporty\n",
            "19          NaN    Concorde    Large\n"
          ]
        }
      ]
    },
    {
      "cell_type": "code",
      "source": [
        "#6 Replace missing values in Min.Price and Max.Price columns withtheir respective mean.\n",
        "df = pd.read_csv('https://raw.githubusercontent.com/selva86/datasets/master/Cars93_miss.csv')\n",
        "print(df[['Min.Price', 'Max.Price']])\n",
        "\n",
        "mean_min_price = df['Min.Price'].mean()\n",
        "mean_max_price = df['Max.Price'].mean()\n",
        "\n",
        "df['Min.Price'].fillna(mean_min_price, inplace=True)\n",
        "df['Max.Price'].fillna(mean_max_price, inplace=True)\n",
        "\n",
        "print(df[['Min.Price', 'Max.Price']])"
      ],
      "metadata": {
        "colab": {
          "base_uri": "https://localhost:8080/"
        },
        "id": "bzlZ_m-UoNRn",
        "outputId": "4829787b-e23b-4218-8fcf-963472facaf5"
      },
      "execution_count": null,
      "outputs": [
        {
          "output_type": "stream",
          "name": "stdout",
          "text": [
            "    Min.Price  Max.Price\n",
            "0        12.9       18.8\n",
            "1        29.2       38.7\n",
            "2        25.9       32.3\n",
            "3         NaN       44.6\n",
            "4         NaN        NaN\n",
            "..        ...        ...\n",
            "88       16.6       22.7\n",
            "89       17.6       22.4\n",
            "90       22.9       23.7\n",
            "91       21.8       23.5\n",
            "92       24.8       28.5\n",
            "\n",
            "[93 rows x 2 columns]\n",
            "    Min.Price  Max.Price\n",
            "0   12.900000  18.800000\n",
            "1   29.200000  38.700000\n",
            "2   25.900000  32.300000\n",
            "3   17.118605  44.600000\n",
            "4   17.118605  21.459091\n",
            "..        ...        ...\n",
            "88  16.600000  22.700000\n",
            "89  17.600000  22.400000\n",
            "90  22.900000  23.700000\n",
            "91  21.800000  23.500000\n",
            "92  24.800000  28.500000\n",
            "\n",
            "[93 rows x 2 columns]\n"
          ]
        },
        {
          "output_type": "stream",
          "name": "stderr",
          "text": [
            "<ipython-input-30-d5072a6a3000>:8: FutureWarning: A value is trying to be set on a copy of a DataFrame or Series through chained assignment using an inplace method.\n",
            "The behavior will change in pandas 3.0. This inplace method will never work because the intermediate object on which we are setting values always behaves as a copy.\n",
            "\n",
            "For example, when doing 'df[col].method(value, inplace=True)', try using 'df.method({col: value}, inplace=True)' or df[col] = df[col].method(value) instead, to perform the operation inplace on the original object.\n",
            "\n",
            "\n",
            "  df['Min.Price'].fillna(mean_min_price, inplace=True)\n",
            "<ipython-input-30-d5072a6a3000>:9: FutureWarning: A value is trying to be set on a copy of a DataFrame or Series through chained assignment using an inplace method.\n",
            "The behavior will change in pandas 3.0. This inplace method will never work because the intermediate object on which we are setting values always behaves as a copy.\n",
            "\n",
            "For example, when doing 'df[col].method(value, inplace=True)', try using 'df.method({col: value}, inplace=True)' or df[col] = df[col].method(value) instead, to perform the operation inplace on the original object.\n",
            "\n",
            "\n",
            "  df['Max.Price'].fillna(mean_max_price, inplace=True)\n"
          ]
        }
      ]
    },
    {
      "cell_type": "code",
      "source": [
        "#7 How to get the rows of a dataframe with row sum > 100?```\n",
        "df = pd.DataFrame(np.random.randint(10, 40, 60).reshape(-1, 4))\n",
        "print(df)\n",
        "row_sum = df.sum(axis=1)\n",
        "filtered_rows = df[row_sum > 100]\n",
        "print(filtered_rows)"
      ],
      "metadata": {
        "colab": {
          "base_uri": "https://localhost:8080/"
        },
        "id": "3_urqG0_oYMC",
        "outputId": "881ee9b5-83d4-4a2b-b94a-20d0bfae0f78"
      },
      "execution_count": null,
      "outputs": [
        {
          "output_type": "stream",
          "name": "stdout",
          "text": [
            "     0   1   2   3\n",
            "0   32  30  15  18\n",
            "1   23  29  38  14\n",
            "2   30  14  26  37\n",
            "3   36  24  15  10\n",
            "4   34  17  21  22\n",
            "5   25  37  13  35\n",
            "6   29  21  22  14\n",
            "7   17  39  28  25\n",
            "8   30  23  32  24\n",
            "9   11  17  32  15\n",
            "10  16  11  22  35\n",
            "11  15  14  27  39\n",
            "12  23  19  36  21\n",
            "13  35  11  34  14\n",
            "14  27  24  31  38\n",
            "     0   1   2   3\n",
            "1   23  29  38  14\n",
            "2   30  14  26  37\n",
            "5   25  37  13  35\n",
            "7   17  39  28  25\n",
            "8   30  23  32  24\n",
            "14  27  24  31  38\n"
          ]
        }
      ]
    }
  ]
}